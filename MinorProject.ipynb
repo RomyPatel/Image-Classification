{
  "nbformat": 4,
  "nbformat_minor": 0,
  "metadata": {
    "colab": {
      "name": "MinorProject.ipynb",
      "provenance": [],
      "mount_file_id": "1rWpuasjamIxcteKXbeCjX7Eppe_2DqbE",
      "authorship_tag": "ABX9TyNanuKR5KA2kO6P1qwsAdbc",
      "include_colab_link": true
    },
    "kernelspec": {
      "name": "python3",
      "display_name": "Python 3"
    }
  },
  "cells": [
    {
      "cell_type": "markdown",
      "metadata": {
        "id": "view-in-github",
        "colab_type": "text"
      },
      "source": [
        "<a href=\"https://colab.research.google.com/github/RomyPatel/Image-Classification/blob/main/MinorProject.ipynb\" target=\"_parent\"><img src=\"https://colab.research.google.com/assets/colab-badge.svg\" alt=\"Open In Colab\"/></a>"
      ]
    },
    {
      "cell_type": "code",
      "metadata": {
        "id": "CdBaW3ItfZmj"
      },
      "source": [
        "%ls /content/drive/MyDrive/Colab_Notebooks/PlantImages/dataset"
      ],
      "execution_count": null,
      "outputs": []
    },
    {
      "cell_type": "code",
      "metadata": {
        "id": "zRD2GSfVGFq0"
      },
      "source": [
        "import numpy as np\r\n",
        "import pandas as pd\r\n",
        "import matplotlib.pyplot as plt\r\n",
        "import os\r\n",
        "from skimage.transform import resize\r\n",
        "from skimage.io import imread\r\n",
        "target= []\r\n",
        "images= [] #Matrix format\r\n",
        "flat_data= []"
      ],
      "execution_count": null,
      "outputs": []
    },
    {
      "cell_type": "markdown",
      "metadata": {
        "id": "Fqqi7jE2RCDa"
      },
      "source": [
        "Preprocessing"
      ]
    },
    {
      "cell_type": "code",
      "metadata": {
        "id": "LsJegjiMTPkD"
      },
      "source": [
        "DATADIR= '/content/drive/MyDrive/Colab_Notebooks/PlantImages/dataset'\r\n",
        "CATEGORIES= ['Cattail', 'Chicory', 'Coltsfoot', 'Forget Me Not', 'Harebell', 'Prickly Pear Cactus', 'Sunflower']\r\n",
        "for i in CATEGORIES:\r\n",
        "  path= os.path.join(DATADIR,i)\r\n",
        "  for img in os.listdir(path):\r\n",
        "    img_array= imread(os.path.join(path,img))\r\n",
        "    img_resized= resize(img_array,(300,300,3))\r\n",
        "    images.append(img_resized)\r\n",
        "    flat_data.append(img_resized.flatten())\r\n",
        "    target.append(CATEGORIES.index(i))\r\n",
        "flat_data= np.array(flat_data)\r\n",
        "target= np.array(target)\r\n",
        "images= np.array(images)"
      ],
      "execution_count": null,
      "outputs": []
    },
    {
      "cell_type": "code",
      "metadata": {
        "id": "vUxKJHMODX-b"
      },
      "source": [
        "df= pd.DataFrame(flat_data)\r\n",
        "df['Target']= target\r\n",
        "df"
      ],
      "execution_count": null,
      "outputs": []
    },
    {
      "cell_type": "markdown",
      "metadata": {
        "id": "5nANhmDNRII2"
      },
      "source": [
        "Modelling"
      ]
    },
    {
      "cell_type": "code",
      "metadata": {
        "id": "4NjcBcTSK-xN"
      },
      "source": [
        "x= flat_data\r\n",
        "y= target"
      ],
      "execution_count": null,
      "outputs": []
    },
    {
      "cell_type": "code",
      "metadata": {
        "id": "XdDXT1RsPS_O"
      },
      "source": [
        "from sklearn.model_selection import train_test_split\r\n",
        "x_train, x_test, y_train, y_test= train_test_split(x,y,test_size= 0.05, random_state=0, stratify= y)"
      ],
      "execution_count": null,
      "outputs": []
    },
    {
      "cell_type": "code",
      "metadata": {
        "id": "fbcTVb1yQC5W"
      },
      "source": [
        "from sklearn.svm import SVC\r\n",
        "model= SVC()\r\n",
        "model.fit(x_train, y_train)"
      ],
      "execution_count": null,
      "outputs": []
    },
    {
      "cell_type": "code",
      "metadata": {
        "id": "kdDodKP0QT_u"
      },
      "source": [
        "y_pred= model.predict(x_test)\r\n",
        "y_pred"
      ],
      "execution_count": null,
      "outputs": []
    },
    {
      "cell_type": "code",
      "metadata": {
        "id": "6iWXDVWxDHkx"
      },
      "source": [
        "y_test"
      ],
      "execution_count": null,
      "outputs": []
    },
    {
      "cell_type": "markdown",
      "metadata": {
        "id": "wIZ2NY_oQ7uv"
      },
      "source": [
        "Accuracy Measure"
      ]
    },
    {
      "cell_type": "code",
      "metadata": {
        "id": "yxvEGsyLQbfL"
      },
      "source": [
        "from sklearn.metrics import accuracy_score, confusion_matrix, classification_report\r\n",
        "confusion_matrix(y_pred, y_test)"
      ],
      "execution_count": null,
      "outputs": []
    },
    {
      "cell_type": "code",
      "metadata": {
        "id": "sh0kNg09Qqtj"
      },
      "source": [
        "accuracy_score(y_pred,y_test)"
      ],
      "execution_count": null,
      "outputs": []
    },
    {
      "cell_type": "code",
      "metadata": {
        "id": "7xrRNlUOQwFo"
      },
      "source": [
        "print(classification_report(y_pred, y_test))"
      ],
      "execution_count": null,
      "outputs": []
    },
    {
      "cell_type": "code",
      "metadata": {
        "id": "s9A-e9SsUSWU"
      },
      "source": [
        "from sklearn.model_selection import GridSearchCV\r\n",
        "svc = SVC()\r\n",
        "parameters = {\r\n",
        "    'C':[0.1,1,10]\r\n",
        "}\r\n",
        "cv = GridSearchCV(svc,parameters,cv =5)\r\n",
        "cv.fit(x_train,y_train)\r\n",
        "cv.best_params_"
      ],
      "execution_count": null,
      "outputs": []
    },
    {
      "cell_type": "code",
      "metadata": {
        "id": "5tJeBCBMLfoQ"
      },
      "source": [
        ""
      ],
      "execution_count": null,
      "outputs": []
    }
  ]
}